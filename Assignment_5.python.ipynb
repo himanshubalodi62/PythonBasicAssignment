{
 "cells": [
  {
   "cell_type": "markdown",
   "metadata": {},
   "source": [
    "# 1. What does an empty dictionary's  code look like ?"
   ]
  },
  {
   "cell_type": "markdown",
   "metadata": {},
   "source": [
    "An empty dictionary is often represented by two empty curly brackets \n",
    "d = {}   or d()"
   ]
  },
  {
   "cell_type": "code",
   "execution_count": 7,
   "metadata": {},
   "outputs": [
    {
     "name": "stdout",
     "output_type": "stream",
     "text": [
      "{}\n",
      "length 0\n",
      "<class 'dict'>\n"
     ]
    }
   ],
   "source": [
    "#eg.\n",
    "Dict = {}  \n",
    "print(Dict)\n",
    "print(\"length\",len(Dict))\n",
    "print(type(Dict))"
   ]
  },
  {
   "cell_type": "markdown",
   "metadata": {},
   "source": [
    "# 2. what is the value of dictionary value with the key 'foo' and the value of 42 ?"
   ]
  },
  {
   "cell_type": "code",
   "execution_count": 8,
   "metadata": {},
   "outputs": [
    {
     "data": {
      "text/plain": [
       "{'foo': 42}"
      ]
     },
     "execution_count": 8,
     "metadata": {},
     "output_type": "execute_result"
    }
   ],
   "source": [
    "{\"foo\" : 42}"
   ]
  },
  {
   "cell_type": "markdown",
   "metadata": {},
   "source": [
    "# 3. What is the most significent distinction between a dictionary and a list ?"
   ]
  },
  {
   "cell_type": "markdown",
   "metadata": {},
   "source": [
    "Dictionary are represented by {} where as list are represented by [] .\n",
    "\n",
    "The items stored in a dictionary Unordered , while the items in a list are ordered."
   ]
  },
  {
   "cell_type": "markdown",
   "metadata": {},
   "source": [
    "# 4. What happens if you try to access spam['foo'] if spam is {'bar' : 100} ?"
   ]
  },
  {
   "cell_type": "markdown",
   "metadata": {},
   "source": [
    "We will get keyError\n",
    "\n",
    "keyError : 'foo'\n"
   ]
  },
  {
   "cell_type": "markdown",
   "metadata": {},
   "source": [
    "# 5. If a dictionary is storted in spam , what is the difference between the expression \"cat\" in spam and \"cat\" in spam.keys() ?"
   ]
  },
  {
   "cell_type": "markdown",
   "metadata": {},
   "source": [
    "There is no difference . The operator checks whether a value exits as a key in the dictionary or not "
   ]
  },
  {
   "cell_type": "markdown",
   "metadata": {},
   "source": [
    "# 6. if a dictionary is storted in  spam , what is the difference between the expression 'cat' in spam and 'cat' in spam.values() ?"
   ]
  },
  {
   "cell_type": "markdown",
   "metadata": {},
   "source": [
    "Cat in spam checks whether there is a 'cat' key in the dictionary , while 'cat' in spam.values() checks whether there is a value 'cat' for one of the keys in spam."
   ]
  },
  {
   "cell_type": "markdown",
   "metadata": {},
   "source": [
    "# 7. What is the shortcut of the following code ?\n",
    "\n",
    "\n",
    "if 'color' not in spam :\n",
    "\n",
    "spam['color'] = 'black'\n",
    "\n"
   ]
  },
  {
   "cell_type": "code",
   "execution_count": 12,
   "metadata": {},
   "outputs": [
    {
     "data": {
      "text/plain": [
       "'black'"
      ]
     },
     "execution_count": 12,
     "metadata": {},
     "output_type": "execute_result"
    }
   ],
   "source": [
    "spam.setdefault('color','black')"
   ]
  },
  {
   "cell_type": "markdown",
   "metadata": {},
   "source": [
    "# 8. What module and function can be used to \"pretty print\" dictionary values ?"
   ]
  },
  {
   "cell_type": "markdown",
   "metadata": {},
   "source": [
    "We can pretty print a dictionary using three functions\n",
    "\n",
    "1. by using pprint() function of pprint module\n",
    "\n",
    "    .Note : pprint() function doesnot prettify nested dictionaries \n",
    "2. by using dumps() method of Json module \n",
    "3. by using dumps() method of yaml module\n"
   ]
  },
  {
   "cell_type": "code",
   "execution_count": 6,
   "metadata": {},
   "outputs": [
    {
     "name": "stdout",
     "output_type": "stream",
     "text": [
      "[{'Age': '22', 'Name': 'Joe', 'country': 'USA'},\n",
      " {'Age': '42', 'Name': 'Jay', 'country': 'South africa'},\n",
      " {'Age': '25', 'Name': 'Avey', 'country': 'UK'},\n",
      " {'Age': '44', 'Name': 'Usos', 'country': 'Japan'}]\n"
     ]
    }
   ],
   "source": [
    "import pprint\n",
    "\n",
    "dict_arr = [\n",
    "    {'Name' : 'Joe' , 'Age' : '22' , 'country' : 'USA'},\n",
    "    {'Name' : 'Jay' , 'Age' : '42' , 'country' : 'South africa'},\n",
    "    {'Name' : 'Avey', 'Age' : '25' , 'country' : 'UK'},\n",
    "    {'Name' : 'Usos', 'Age' : '44' , 'country' : 'Japan'}\n",
    "]\n",
    "\n",
    "pprint.pprint(dict_arr)\n"
   ]
  },
  {
   "cell_type": "code",
   "execution_count": 8,
   "metadata": {},
   "outputs": [
    {
     "name": "stdout",
     "output_type": "stream",
     "text": [
      "[\n",
      "    {\n",
      "        \"Name\": \"Joe\",\n",
      "        \"Age\": \"22\",\n",
      "        \"country\": \"USA\"\n",
      "    },\n",
      "    {\n",
      "        \"Name\": \"Jay\",\n",
      "        \"Age\": \"42\",\n",
      "        \"country\": \"South africa\"\n",
      "    },\n",
      "    {\n",
      "        \"Name\": \"Avey\",\n",
      "        \"Age\": \"25\",\n",
      "        \"country\": \"UK\"\n",
      "    },\n",
      "    {\n",
      "        \"Name\": \"Usos\",\n",
      "        \"Age\": \"44\",\n",
      "        \"country\": \"Japan\"\n",
      "    }\n",
      "]\n"
     ]
    }
   ],
   "source": [
    "import json\n",
    "\n",
    "dict_arr = [\n",
    "    {'Name' : 'Joe' , 'Age' : '22' , 'country' : 'USA'},\n",
    "    {'Name' : 'Jay' , 'Age' : '42' , 'country' : 'South africa'},\n",
    "    {'Name' : 'Avey', 'Age' : '25' , 'country' : 'UK'},\n",
    "    {'Name' : 'Usos', 'Age' : '44' , 'country' : 'Japan'}\n",
    "]\n",
    "\n",
    "print(json.dumps(dict_arr ,sort_keys=False, indent=4))"
   ]
  },
  {
   "cell_type": "code",
   "execution_count": 11,
   "metadata": {},
   "outputs": [
    {
     "name": "stdout",
     "output_type": "stream",
     "text": [
      "[\n",
      "    {\n",
      "        \"Name\": \"Joe\",\n",
      "        \"Age\": \"22\",\n",
      "        \"Residence\": {\n",
      "            \"country\": \"USA\",\n",
      "            \"City\": \"New York\"\n",
      "        }\n",
      "    },\n",
      "    {\n",
      "        \"Name\": \"Jay\",\n",
      "        \"Age\": \"42\",\n",
      "        \"Residence\": {\n",
      "            \"country\": \"South africa\",\n",
      "            \"City\": \"Capetown\"\n",
      "        }\n",
      "    },\n",
      "    {\n",
      "        \"Name\": \"Avey\",\n",
      "        \"Age\": \"25\",\n",
      "        \"Residence\": {\n",
      "            \"country\": \"UK\",\n",
      "            \"City\": \"England\"\n",
      "        }\n",
      "    },\n",
      "    {\n",
      "        \"Name\": \"Usos\",\n",
      "        \"Age\": \"44\",\n",
      "        \"Residence\": {\n",
      "            \"country\": \"Japan\",\n",
      "            \"City\": \"Osaka\"\n",
      "        }\n",
      "    }\n",
      "]\n"
     ]
    }
   ],
   "source": [
    "import json\n",
    "\n",
    "dict_arr =[\n",
    "    {'Name' : 'Joe' , 'Age' : '22' , 'Residence' : {'country' : 'USA' , 'City' : 'New York'}},\n",
    "    {'Name' : 'Jay' , 'Age' : '42' , 'Residence' : {'country' : 'South africa' , 'City' : 'Capetown'}},\n",
    "    {'Name' : 'Avey', 'Age' : '25' , 'Residence' : {'country' : 'UK' , 'City' : 'England'}},\n",
    "    {'Name' : 'Usos', 'Age' : '44' , 'Residence' : {'country' : 'Japan' , 'City' : 'Osaka'}}\n",
    "]\n",
    "    \n",
    "print(json.dumps(dict_arr , sort_keys=False, indent=4))\n",
    "  "
   ]
  },
  {
   "cell_type": "code",
   "execution_count": 12,
   "metadata": {},
   "outputs": [
    {
     "name": "stdout",
     "output_type": "stream",
     "text": [
      "- Name: Joe\n",
      "  Age: '22'\n",
      "  Residence:\n",
      "    country: USA\n",
      "    City: New York\n",
      "- Name: Jay\n",
      "  Age: '42'\n",
      "  Residence:\n",
      "    country: South africa\n",
      "    City: Capetown\n",
      "- Name: Avey\n",
      "  Age: '25'\n",
      "  Residence:\n",
      "    country: UK\n",
      "    City: England\n",
      "- Name: Usos\n",
      "  Age: '44'\n",
      "  Residence:\n",
      "    country: Japan\n",
      "    City: Osaka\n",
      "\n"
     ]
    }
   ],
   "source": [
    "import yaml\n",
    "\n",
    "dict_arr = [\n",
    "    {'Name' : 'Joe' , 'Age' : '22' , 'Residence' : {'country' : 'USA' , 'City' : 'New York'}},\n",
    "    {'Name' : 'Jay' , 'Age' : '42' , 'Residence' : {'country' : 'South africa' , 'City' : 'Capetown'}},\n",
    "    {'Name' : 'Avey', 'Age' : '25' , 'Residence' : {'country' : 'UK' , 'City' : 'England'}},\n",
    "    {'Name' : 'Usos', 'Age' : '44' , 'Residence' : {'country' : 'Japan' , 'City' : 'Osaka'}}\n",
    "    \n",
    "]\n",
    "print(yaml.dump(dict_arr , sort_keys=False , default_flow_style=False))"
   ]
  },
  {
   "cell_type": "code",
   "execution_count": null,
   "metadata": {},
   "outputs": [],
   "source": []
  }
 ],
 "metadata": {
  "kernelspec": {
   "display_name": "Python 3",
   "language": "python",
   "name": "python3"
  },
  "language_info": {
   "codemirror_mode": {
    "name": "ipython",
    "version": 3
   },
   "file_extension": ".py",
   "mimetype": "text/x-python",
   "name": "python",
   "nbconvert_exporter": "python",
   "pygments_lexer": "ipython3",
   "version": "3.8.5"
  }
 },
 "nbformat": 4,
 "nbformat_minor": 4
}
