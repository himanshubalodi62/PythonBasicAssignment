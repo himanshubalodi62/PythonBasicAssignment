{
 "cells": [
  {
   "cell_type": "markdown",
   "id": "6d25ba65",
   "metadata": {},
   "source": [
    "# Assignment 13 Solutions\n",
    "\n",
    "### 1. What advantages do Excel spreadsheets have over CSV spreadsheets?\n",
    "\n",
    "**Ans:**  The Advantages of Excel over CSV are:\n",
    "\n",
    "Excel (XLS and XLSX) file formats are better for storing and analysing complex data.\n",
    "\n",
    "An Excel not only stores data but can also do operations on the data using macros, formulas etc\n",
    "\n",
    "CSV files are plain-text files, Does not contain formatting, formulas, macros, etc. It is also known as flat files\n",
    "\n",
    "### 2.What do you pass to csv.reader() and csv.writer() to create reader and writer objects?\n"
   ]
  },
  {
   "cell_type": "code",
   "execution_count": 11,
   "id": "17973571",
   "metadata": {},
   "outputs": [],
   "source": [
    "import csv\n",
    "\n",
    "with open('example.csv', 'r') as csvfile:\n",
    "    reader = csv.reader('csvfile')\n",
    "    # use the reader object to read data from the csv file"
   ]
  },
  {
   "cell_type": "code",
   "execution_count": 9,
   "id": "5678b89d",
   "metadata": {},
   "outputs": [],
   "source": [
    "import csv\n",
    "\n",
    "with open('example.csv', 'w', newline='') as csvfile:\n",
    "    fieldnames = ['Name', 'Age', 'Location']\n",
    "    writer = csv.writer(csvfile)\n",
    "    writer.writerow(fieldnames)\n",
    "    # use the writer object to write data to the csv file"
   ]
  },
  {
   "cell_type": "markdown",
   "id": "3c0b6eda",
   "metadata": {},
   "source": [
    "### 3. What modes do File objects for reader and writer objects need to be opened in?\n",
    "\n",
    "**Ans:**  For csv.reader(iterable_file_object), the file objects needed to be opened in read mode mode='r' Whereas for csv.writer(iterable_file_object) the file objects needed to be opened in write mode mode='w'"
   ]
  },
  {
   "cell_type": "markdown",
   "id": "e0ac0357",
   "metadata": {},
   "source": [
    "### 4. What method takes a list argument and writes it to a CSV file?\n",
    "\n",
    "\n",
    "**Ans:** csv.writer class provides two methods for writing to CSV. They are writerow() and writerows(). writerow() method writes a single row at a time. Whereas writerows() method is used to write multiple rows at a time."
   ]
  },
  {
   "cell_type": "code",
   "execution_count": 12,
   "id": "1ef1f3ac",
   "metadata": {},
   "outputs": [],
   "source": [
    "import csv\n",
    "\n",
    "with open('example.csv', 'w', newline='') as csvfile:\n",
    "    writer = csv.writer(csvfile)\n",
    "    writer.writerow(['Name', 'Age', 'Location'])\n",
    "    writer.writerow(['Alice', 25, 'New York'])\n",
    "    writer.writerow(['Bob', 30, 'San Francisco'])"
   ]
  },
  {
   "cell_type": "markdown",
   "id": "3356fd36",
   "metadata": {},
   "source": [
    "### 5. What do the keyword arguments delimiter and line terminator do?\n",
    "\n",
    "**Ans:** Lets take the example of a csv file:\n",
    "        \n",
    "**delimiter:** The delimiter argument specifies the character used to separate fields in a CSV file. By default, the \n",
    "\n",
    "csv.writer() object uses a comma (,) as the delimiter. For example, if you want to use a tab character as the delimiter, you\n",
    "\n",
    "can pass the delimiter='\\t' argument to csv.writer()."
   ]
  },
  {
   "cell_type": "code",
   "execution_count": 14,
   "id": "18b12e0a",
   "metadata": {},
   "outputs": [],
   "source": [
    "import csv\n",
    "\n",
    "with open('example.csv', 'w', newline='') as csvfile:\n",
    "    writer = csv.writer(csvfile, delimiter='\\t')\n",
    "    writer.writerow(['Name', 'Age', 'Location'])\n",
    "    writer.writerow(['Alice', 25, 'New York'])\n",
    "    writer.writerow(['Bob', 30, 'San Francisco'])"
   ]
  },
  {
   "cell_type": "markdown",
   "id": "285c6180",
   "metadata": {},
   "source": [
    "**lineterminator:** The lineterminator argument specifies the character used to terminate rows in a CSV file. By default, the\n",
    "\n",
    "csv.writer() object uses the system's default line terminator (e.g. \\n on Unix-based systems, \\r\\n on Windows). For example, if\n",
    "\n",
    "you want to use a semicolon (;) as the line terminator, you can pass the lineterminator=';' argument to csv.writer()."
   ]
  },
  {
   "cell_type": "code",
   "execution_count": 15,
   "id": "34e8d046",
   "metadata": {},
   "outputs": [],
   "source": [
    "import csv\n",
    "\n",
    "with open('example.csv', 'w', newline='') as csvfile:\n",
    "    writer = csv.writer(csvfile, lineterminator=';')\n",
    "    writer.writerow(['Name', 'Age', 'Location'])\n",
    "    writer.writerow(['Alice', 25, 'New York'])\n",
    "    writer.writerow(['Bob', 30, 'San Francisco'])"
   ]
  },
  {
   "cell_type": "markdown",
   "id": "1955d029",
   "metadata": {},
   "source": [
    "### 6. What function takes a string of JSON data and returns a Python data structure?\n",
    "\n",
    "**Ans:** loads() method takes a string of JSON data and returns a Python data structure"
   ]
  },
  {
   "cell_type": "code",
   "execution_count": 19,
   "id": "fcec0885",
   "metadata": {},
   "outputs": [
    {
     "name": "stdout",
     "output_type": "stream",
     "text": [
      "{\n",
      "        \"Name\" : \"Alice\",\n",
      "        \"Age\"  : \"25\",\n",
      "        \"Location\" : \"Newyork\"\n",
      "}\n",
      "Type of my_details_json is <class 'str'>\n",
      "{'Name': 'Alice', 'Age': '25', 'Location': 'Newyork'}\n",
      "Type of my_details is <class 'dict'>\n"
     ]
    }
   ],
   "source": [
    "import json\n",
    "my_details_json ='''{\n",
    "        \"Name\" : \"Alice\",\n",
    "        \"Age\"  : \"25\",\n",
    "        \"Location\" : \"Newyork\"\n",
    "}'''\n",
    "print(my_details_json)\n",
    "print(f'Type of my_details_json is {type(my_details_json)}')\n",
    "my_details = json.loads(my_details_json)\n",
    "print(my_details)\n",
    "print(f'Type of my_details is {type(my_details)}')"
   ]
  },
  {
   "cell_type": "markdown",
   "id": "1985d02c",
   "metadata": {},
   "source": [
    "### 7. What function takes a Python data structure and returns a string of JSON data?\n",
    "\n",
    "|**Ans:** dumps() method takes a python data structure and returns a string of JSON data"
   ]
  },
  {
   "cell_type": "code",
   "execution_count": 26,
   "id": "49fdc2ae",
   "metadata": {},
   "outputs": [
    {
     "name": "stdout",
     "output_type": "stream",
     "text": [
      "{'Name': 'Alice', 'Age': '25', 'Location': 'Newyork'}\n",
      "Type of my_details is <class 'str'>\n",
      "{\n",
      "    \"Age\": \"25\",\n",
      "    \"Location\": \"Newyork\",\n",
      "    \"Name\": \"Alice\"\n",
      "}\n",
      "Type of my_details_json is <class 'str'>\n"
     ]
    }
   ],
   "source": [
    "import json\n",
    "my_details ={\n",
    "        \"Name\" : \"Alice\",\n",
    "        \"Age\"  : \"25\",\n",
    "        \"Location\" : \"Newyork\"\n",
    "}\n",
    "print(my_details)\n",
    "print(f'Type of my_details is {type(my_details_json)}')\n",
    "my_details_json = json.dumps(my_details, indent=4, sort_keys=True)\n",
    "print(my_details_json)\n",
    "print(f'Type of my_details_json is {type(my_details_json)}')"
   ]
  },
  {
   "cell_type": "code",
   "execution_count": null,
   "id": "c9bf6383",
   "metadata": {},
   "outputs": [],
   "source": []
  }
 ],
 "metadata": {
  "kernelspec": {
   "display_name": "Python 3 (ipykernel)",
   "language": "python",
   "name": "python3"
  },
  "language_info": {
   "codemirror_mode": {
    "name": "ipython",
    "version": 3
   },
   "file_extension": ".py",
   "mimetype": "text/x-python",
   "name": "python",
   "nbconvert_exporter": "python",
   "pygments_lexer": "ipython3",
   "version": "3.9.12"
  }
 },
 "nbformat": 4,
 "nbformat_minor": 5
}
