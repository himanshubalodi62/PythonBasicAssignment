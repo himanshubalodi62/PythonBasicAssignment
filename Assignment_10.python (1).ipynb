{
 "cells": [
  {
   "cell_type": "markdown",
   "id": "3dc7f4e8",
   "metadata": {},
   "source": [
    "# Assignment 10 Solutions"
   ]
  },
  {
   "cell_type": "markdown",
   "id": "fe9dfef1",
   "metadata": {},
   "source": [
    "### 1. How do you distinguish between shutil.copy() and shutil.copytree()?\n"
   ]
  },
  {
   "cell_type": "markdown",
   "id": "7c01f8c3",
   "metadata": {},
   "source": [
    "**Ans**:  **shutil.copy()** method is used to copy the contents of a file from one file to another file/folder, it primary takes two arguments src,dest, src represents the file to be copied where as destination refers to the file/folder to where the src data should be copied, if dest is a folder name the src with exact name will be copied to the dest folder, if its a file then the contents of src will be copied to dest where dest retains it name.\n",
    "\n",
    "**shutil.copytree()** function is used to copy the entire contents of a folder to other folder. it also takes two arguments src & dest, it copies all the content recursively and stores it in dest. the important catch here is dest must not exist prior to this and it will be created during the copy operation. Permissions and times of directories are copied with shutil.copystat() and individual files are copied using shutil.copy2() by default which can be modified using copy_function attribute."
   ]
  },
  {
   "cell_type": "markdown",
   "id": "37e9bbd9",
   "metadata": {},
   "source": [
    "### 2. What function is used to rename files?"
   ]
  },
  {
   "cell_type": "markdown",
   "id": "9cbd4dba",
   "metadata": {},
   "source": [
    "**Ans** : os.rename() function is used to rename files or directories using a python program, this function takes two arguments\n",
    "src and dest, src represents the name file/directory which we want to rename, whereas dest represents the new name of the\n",
    "file/directory."
   ]
  },
  {
   "cell_type": "markdown",
   "id": "757a9d3e",
   "metadata": {},
   "source": [
    "### 3. What is the difference between the delete functions in the send2trash and shutil modules?"
   ]
  },
  {
   "cell_type": "markdown",
   "id": "98155ace",
   "metadata": {},
   "source": [
    "**Ans** : Shutil module provides a funciton called as shutil.rmtree() which deletes a directory and all its contents. The other functions with similar functionality are os.remove() -> removes a file, os.rmdir() removes a empty directory. The problem with these functions is once a file is deleted. it will be lost permanently, if a file is deleted accidentally using these methods there is no way we can recover the deleted file\n",
    "\n",
    "Where as send2trash module provides a function called send2trash.send2trash() to delete a file/directory. these methods moves the files/directories to trash folder instead of permanently deleting them. hence if a file/folder is deleted accidentally it can be still recovered from trash folder, if is deleted using the send2trash.send2trash() function. send2trash is not included with python standard libary like os & shutil modules. it needs to be installed explicitly using the command !pip install send2trash"
   ]
  },
  {
   "cell_type": "markdown",
   "id": "eb2a6068",
   "metadata": {},
   "source": [
    "### 4. ZipFile objects have a close() method just like File objects’ close() method. What ZipFile method is equivalent to File objects’ open() method?"
   ]
  },
  {
   "cell_type": "markdown",
   "id": "dbf94ffa",
   "metadata": {},
   "source": [
    "**Ans** : ZipFile Module provides a method called as zipfile.ZipFile() to read and write to zipFiles. it takes arugments lile filename and mode etc zipfile.ZipFile('filename', mode = 'r')"
   ]
  },
  {
   "cell_type": "markdown",
   "id": "2ad413b1",
   "metadata": {},
   "source": [
    "### 5. Create a programme that searches a folder tree for files with a certain file extension (such as .pdf or .jpg). Copy these files from whatever location they are in to a new folder?"
   ]
  },
  {
   "cell_type": "code",
   "execution_count": 3,
   "id": "af8dac88",
   "metadata": {},
   "outputs": [
    {
     "name": "stdout",
     "output_type": "stream",
     "text": [
      "Folder Name ➞ E:\\himanshu_2022\\Download\n",
      "\n",
      "Sub Folders ➞ ['aps-fault-detection-main', 'archive', 'BA interview questions -20220826T131430Z-001', 'EDA.doc', 'ImageScrapper', 'iNeuronYoutubeChallenge-main', 'KNN', 'logistics regression svg.svg', 'oops_class3', 'PCA', 'PetImages', 'PetImages-20230311T095339Z-001', 'Python assignment', 'ReviewFlask (6)', 'Section 7']\n",
      "\n",
      "Files ➞ ['...Eda & Feature Engineering with Google_play_Dataset2.ipynb', '01.Assignment-Convert-to-Date-Format.xlsx', '01.Linear Regression.docx', '03.Decision Tree.docx', '1.png', '1628668364238.pdf', '1672396925843_FAMILY DECLARATION FORM.docx', '1672396956226_FORM ID 2022.docx', '2- Simple Linear Regression.pdf', '21st Jan FSDSbootcamp(deep-learning-main).zip', '27th NovFSDSbootcamp(aps-fault-detection-main).zip', '7z2201-x64.exe', 'Admission_Prediction.csv', 'advertising.csv', 'Algerian_forest_fires_dataset_UPDATE.csv', 'Anaconda3-2022.05-Windows-x86_64.exe', 'ANN.ipynb', 'API.sql', 'app.py', 'aps_failure_description.csv', 'aps_failure_test_set.csv', 'aps_failure_training_set.csv', 'archive.zip', 'BA interview questions -20220826T131430Z-001.zip', 'bank-full - bank-full.csv', 'BraveBrowserSetup.exe', 'CDS 2.pdf', 'computer backup-20230223T050546Z-001.zip', 'Data-Science-Interview-Questions-30-days-interview-preparation--main.zip', 'Dataset.zip', 'dataset_full.csv', 'Data_cleaning.ipynb', 'Data_Train.xlsx', 'Day 2- fsds bootcamp.pdf', 'Day3- fsds bootcamp.pdf', 'Decision tree practical with random forest .ipynb', 'Decision TreeClassifier on Wine-Quality-Dataset.ipynb', 'decision-tree-classification-algorithm.png', 'deep-learning-main.zip', 'diploma fee.pdf', 'Django (1).docx', 'DOC-20230121-WA0021..pdf', 'documents .pdf', 'DSA-20220826T130459Z-001.zip', 'EDA & feature engineering with Google play store_datasat.pdf', 'Eda & Feature Engineering with Google_play_Dataset1.ipynb', 'EDA ,FE , Logistic Regression and Support Vector classifier on income Dataset.ipynb', 'EDA with Google_play store dataset.pdf', 'EDA&Feature engineering analysis dataset.ipynb', 'EDA-Used-CAr-PRediction-main.zip', 'EDA.ipynb', 'EDA_Feature_Engineering.ipynb', 'EDA_Task.ipynb', 'EMPLOYEE BANK ACCOUNT DETAILS (1).docx', 'EMPLOYEE BANK ACCOUNT DETAILS.docx', 'EnsembleLearning_And_RandomForest.zip', 'EXCEL SHEET.xlsx', 'Exception_handling_revision_class.ipynb', 'fault-ec2.pem', 'Feature Engineering Part 1.ipynb', 'Final solution data science interview questions-20220826T130751Z-001.zip', 'FitBit data.json1.csv', 'fsds-EDA.ipynb', 'Full Stack Data Science.pdf', 'Function continued .ipynb', 'Git-2.37.2.2-64-bit.exe', 'gitignore', 'googleplaystore.csv', 'google_cleaned.csv', 'graph-main.zip', 'graph.7z', 'HAPPY TEACHERS DAY.txt', 'heroku-x64.exe', \"Himanshu's Resume.pdf\", 'Hypothesis_Testing.ipynb', 'hypothyroid.csv', 'hypothyroid.data', 'ImageScrapper.7z', 'income dataset.csv', 'income.csv', 'Index', 'iNeuronYoutubeChallenge-main.zip', 'instructions.txt', 'interview questions set 1.pdf', 'interview questoins set 2.pdf', 'invite.ics', 'iphone.csv', 'iphone13.csv', 'iphone7.csv', 'ipynb_checkpoints-20220930T105653Z-001.zip', 'iterator , generator , map , reduce , filter , basic file operation .ipynb', 'Kmeans & heirarchical.pdf', 'kmeans.ipynb', 'KNN Classification implimentation.pdf', 'KNN.zip', 'LibreOffice_7.3.5_Win_x64.msi', 'Linear Regression Practicals.ipynb', 'Linear Regression with Algerian_Forest  data (1).ipynb', 'Linear Regression with Algerian_Forest  data.ipynb', 'linear_Regression in ML & DL.pdf', 'link resources.txt', 'Logistic Regression Implement with ALGERIAN FOREST DATASET.pdf', 'Logistic Regression Implement with Algerian Forest fire dataset .ipynb', 'Logistic-regression_final.zip', 'Logistics regression implementation.ipynb', 'logistics regression svg.svg.zip', 'MachineLearningModelToHeroku-master.zip', 'Machine_Learning book.pdf', 'Matplotlib Tutorial.ipynb', 'Matplotlib.pdf', 'ML and Linear Regression.pdf', 'Ml.pdf', 'ML_task imlemetetion Linear Regression.pdf', 'mnist_classification (1).ipynb', 'mnist_classification.ipynb', 'mysql-installer-community-8.0.29.0.msi', 'new_user_credentials.csv', 'oops_class3.rar', 'P9-ConsumerComplaints.csv', 'P9-Section3-PostgreSQL-Upload-Code.docx', 'pandas class 3 - with task .ipynb', 'PBIDesktopSetup_x64.exe', 'pca.ipynb', 'PetImages-20230311T095339Z-001.zip', 'Postman-win64-Setup.exe', 'Power BI Material -Kundan.zip', 'Practical impliment Linear regression.pdf', 'Procfile', 'python string basic.ipynb', 'python-3.10.6-amd64.exe', 'python-ml-bootcamp-lecture-2.pptx', 'PYTHON_FEATURE_ENGINEERING_COOKBOOK.pdf', 'Relationship of Mean, Median, Mode.pdf', 'requirements.txt', 'Restaurant Rating Prediction.pdf', 'ReviewFlask (6).7z', 'Ridge,lasso,elaticnet.pdf', 'Robotics-20220826T141250Z-001.zip', 'runtime.txt', 'samsung.csv', 'Scraper (1).docx.pdf', 'Section 7.zip', 'sensor fault EC2.pem', 'Simple Regression Question.docx', 'spamClassifiers with ML.pdf', 'SQL_bank_details.sql', 'SQL_task fitbitdataset.sql', 'SQL_task2 Superstore dataset.sql', 'Statistics notes.pdf', 'statistics-interview-questions.pdf', 'student.csv', 'Student_performence dataset.pdf', 'Superstore_USA.csv', 'Superstore_USA.xlsx', 'SVC.ipynb', 'svc_implementation.ipynb', 'SVM-kernel-and-ROC-AUC-Curve-main.zip', 'SVR on Admision dataset.pdf', 'SVR.ipynb', 'SVR_implimentation.pdf', 'T-test-an-Correlation-using-python-master.zip', 'task_5.ipynb', 'test.txt', 'thyroid.theory', 'Thyroid_Disease_ Detection (1).ipynb', 'Thyroid_Disease_ Detection.ipynb', 'today.txt', 'TSLA.CSV', 'txt.csv', 'txt.mp3', 'txt.txt', 'Types-Of-Trnasformation-main.zip', 'UCI_Credit_Card.csv', 'Untitled document.pdf', 'Untitled1.ipynb', 'VisualStudioSetup.exe', 'VSCodeUserSetup-x64-1.71.0.exe', 'Web capture_11-11-2022_123832_github.com.jpeg', 'WhatsApp.apk', 'youtube-comment-scraper-main.zip', 'Youtube-main.zip', 'youtubeScrappingWebsite-Public-master.zip', 'zomato-20220930T110403Z-001.zip', 'ZoomInstallerFull.exe', 'ZoomInstallerFull.msi', 'Zoom_cm_fo42pnktZ9vvrZo4_mFluyGF-gxpv0SIcC2uev3KA1V0q+b7VbeGOG@p7eKCcpg7-XIPJ3e_k912b0e7520ab5c2d_.exe']\n",
      "\n"
     ]
    },
    {
     "ename": "SameFileError",
     "evalue": "'E:\\\\himanshu_2022\\\\Download\\\\...Eda & Feature Engineering with Google_play_Dataset2.ipynb' and 'E:\\\\himanshu_2022\\\\Download\\\\...Eda & Feature Engineering with Google_play_Dataset2.ipynb' are the same file",
     "output_type": "error",
     "traceback": [
      "\u001b[1;31m---------------------------------------------------------------------------\u001b[0m",
      "\u001b[1;31mSameFileError\u001b[0m                             Traceback (most recent call last)",
      "Input \u001b[1;32mIn [3]\u001b[0m, in \u001b[0;36m<cell line: 21>\u001b[1;34m()\u001b[0m\n\u001b[0;32m     19\u001b[0m source \u001b[38;5;241m=\u001b[39m \u001b[38;5;124m'\u001b[39m\u001b[38;5;124mE:\u001b[39m\u001b[38;5;124m\\\u001b[39m\u001b[38;5;124mhimanshu_2022\u001b[39m\u001b[38;5;124m\\\u001b[39m\u001b[38;5;124mDownload\u001b[39m\u001b[38;5;124m'\u001b[39m\n\u001b[0;32m     20\u001b[0m destination \u001b[38;5;241m=\u001b[39m \u001b[38;5;124m'\u001b[39m\u001b[38;5;124mE:\u001b[39m\u001b[38;5;124m\\\u001b[39m\u001b[38;5;124mhimanshu_2022\u001b[39m\u001b[38;5;124m\\\u001b[39m\u001b[38;5;124mDownload\u001b[39m\u001b[38;5;124m'\u001b[39m\n\u001b[1;32m---> 21\u001b[0m \u001b[43msearch_and_copy\u001b[49m\u001b[43m(\u001b[49m\u001b[43msource\u001b[49m\u001b[43m,\u001b[49m\u001b[43m \u001b[49m\u001b[43mdestination\u001b[49m\u001b[43m,\u001b[49m\u001b[43m \u001b[49m\u001b[43mextensions\u001b[49m\u001b[43m)\u001b[49m\n",
      "Input \u001b[1;32mIn [3]\u001b[0m, in \u001b[0;36msearch_and_copy\u001b[1;34m(source, destination, extensions)\u001b[0m\n\u001b[0;32m     13\u001b[0m     \u001b[38;5;28;01mif\u001b[39;00m extension \u001b[38;5;129;01min\u001b[39;00m extensions:\n\u001b[0;32m     14\u001b[0m         targetFile \u001b[38;5;241m=\u001b[39m foldername\u001b[38;5;241m+\u001b[39mos\u001b[38;5;241m.\u001b[39mpath\u001b[38;5;241m.\u001b[39msep\u001b[38;5;241m+\u001b[39mfileName\u001b[38;5;241m+\u001b[39mextension\n\u001b[1;32m---> 15\u001b[0m         \u001b[43mshutil\u001b[49m\u001b[38;5;241;43m.\u001b[39;49m\u001b[43mcopy\u001b[49m\u001b[43m(\u001b[49m\u001b[43mtargetFile\u001b[49m\u001b[43m,\u001b[49m\u001b[43m \u001b[49m\u001b[43mdestination\u001b[49m\u001b[43m)\u001b[49m\n\u001b[0;32m     16\u001b[0m \u001b[38;5;28mprint\u001b[39m(\u001b[38;5;124mf\u001b[39m\u001b[38;5;124m'\u001b[39m\u001b[38;5;124mFiles copied successfully from \u001b[39m\u001b[38;5;132;01m{\u001b[39;00msource\u001b[38;5;132;01m}\u001b[39;00m\u001b[38;5;124m to \u001b[39m\u001b[38;5;132;01m{\u001b[39;00mdestination\u001b[38;5;132;01m}\u001b[39;00m\u001b[38;5;124m'\u001b[39m)\n",
      "File \u001b[1;32mE:\\himanshu_2022\\Install_software\\anaconda\\lib\\shutil.py:427\u001b[0m, in \u001b[0;36mcopy\u001b[1;34m(src, dst, follow_symlinks)\u001b[0m\n\u001b[0;32m    425\u001b[0m \u001b[38;5;28;01mif\u001b[39;00m os\u001b[38;5;241m.\u001b[39mpath\u001b[38;5;241m.\u001b[39misdir(dst):\n\u001b[0;32m    426\u001b[0m     dst \u001b[38;5;241m=\u001b[39m os\u001b[38;5;241m.\u001b[39mpath\u001b[38;5;241m.\u001b[39mjoin(dst, os\u001b[38;5;241m.\u001b[39mpath\u001b[38;5;241m.\u001b[39mbasename(src))\n\u001b[1;32m--> 427\u001b[0m \u001b[43mcopyfile\u001b[49m\u001b[43m(\u001b[49m\u001b[43msrc\u001b[49m\u001b[43m,\u001b[49m\u001b[43m \u001b[49m\u001b[43mdst\u001b[49m\u001b[43m,\u001b[49m\u001b[43m \u001b[49m\u001b[43mfollow_symlinks\u001b[49m\u001b[38;5;241;43m=\u001b[39;49m\u001b[43mfollow_symlinks\u001b[49m\u001b[43m)\u001b[49m\n\u001b[0;32m    428\u001b[0m copymode(src, dst, follow_symlinks\u001b[38;5;241m=\u001b[39mfollow_symlinks)\n\u001b[0;32m    429\u001b[0m \u001b[38;5;28;01mreturn\u001b[39;00m dst\n",
      "File \u001b[1;32mE:\\himanshu_2022\\Install_software\\anaconda\\lib\\shutil.py:244\u001b[0m, in \u001b[0;36mcopyfile\u001b[1;34m(src, dst, follow_symlinks)\u001b[0m\n\u001b[0;32m    241\u001b[0m sys\u001b[38;5;241m.\u001b[39maudit(\u001b[38;5;124m\"\u001b[39m\u001b[38;5;124mshutil.copyfile\u001b[39m\u001b[38;5;124m\"\u001b[39m, src, dst)\n\u001b[0;32m    243\u001b[0m \u001b[38;5;28;01mif\u001b[39;00m _samefile(src, dst):\n\u001b[1;32m--> 244\u001b[0m     \u001b[38;5;28;01mraise\u001b[39;00m SameFileError(\u001b[38;5;124m\"\u001b[39m\u001b[38;5;132;01m{!r}\u001b[39;00m\u001b[38;5;124m and \u001b[39m\u001b[38;5;132;01m{!r}\u001b[39;00m\u001b[38;5;124m are the same file\u001b[39m\u001b[38;5;124m\"\u001b[39m\u001b[38;5;241m.\u001b[39mformat(src, dst))\n\u001b[0;32m    246\u001b[0m file_size \u001b[38;5;241m=\u001b[39m \u001b[38;5;241m0\u001b[39m\n\u001b[0;32m    247\u001b[0m \u001b[38;5;28;01mfor\u001b[39;00m i, fn \u001b[38;5;129;01min\u001b[39;00m \u001b[38;5;28menumerate\u001b[39m([src, dst]):\n",
      "\u001b[1;31mSameFileError\u001b[0m: 'E:\\\\himanshu_2022\\\\Download\\\\...Eda & Feature Engineering with Google_play_Dataset2.ipynb' and 'E:\\\\himanshu_2022\\\\Download\\\\...Eda & Feature Engineering with Google_play_Dataset2.ipynb' are the same file"
     ]
    }
   ],
   "source": [
    "import os\n",
    "import shutil\n",
    "\n",
    "def search_and_copy(source,destination,extensions):\n",
    "    source = os.path.abspath(source)\n",
    "    destination = os.path.abspath(destination)\n",
    "    for foldername, subfolder, filenames in os.walk(source):\n",
    "        print(f'Folder Name ➞ {foldername}',end='\\n\\n')\n",
    "        print(f'Sub Folders ➞ {subfolder}',end='\\n\\n')\n",
    "        print(f'Files ➞ {filenames}',end='\\n\\n')\n",
    "        for filename in filenames:\n",
    "            fileName,extension = os.path.splitext(filename)\n",
    "            if extension in extensions:\n",
    "                targetFile = foldername+os.path.sep+fileName+extension\n",
    "                shutil.copy(targetFile, destination)\n",
    "        print(f'Files copied successfully from {source} to {destination}')\n",
    "    \n",
    "extensions = ['.pdf','.jpg','.ipynb']\n",
    "source = 'E:\\himanshu_2022\\Download'\n",
    "destination = 'E:\\himanshu_2022\\Download'\n",
    "search_and_copy(source, destination, extensions)"
   ]
  },
  {
   "cell_type": "code",
   "execution_count": null,
   "id": "c34d305a",
   "metadata": {},
   "outputs": [],
   "source": []
  }
 ],
 "metadata": {
  "kernelspec": {
   "display_name": "Python 3 (ipykernel)",
   "language": "python",
   "name": "python3"
  },
  "language_info": {
   "codemirror_mode": {
    "name": "ipython",
    "version": 3
   },
   "file_extension": ".py",
   "mimetype": "text/x-python",
   "name": "python",
   "nbconvert_exporter": "python",
   "pygments_lexer": "ipython3",
   "version": "3.9.12"
  }
 },
 "nbformat": 4,
 "nbformat_minor": 5
}
