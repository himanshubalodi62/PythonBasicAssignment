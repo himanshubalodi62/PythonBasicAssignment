{
 "cells": [
  {
   "cell_type": "markdown",
   "metadata": {},
   "source": [
    "# 1. To what does a relative path refer ?"
   ]
  },
  {
   "cell_type": "markdown",
   "metadata": {},
   "source": [
    "Ans: The relative path is the path to some file with respects to your current working directory (PWD)"
   ]
  },
  {
   "cell_type": "markdown",
   "metadata": {},
   "source": [
    "example:-> if Absolute path to a file called stuff.txt is: C:/users/admin/docs/stuff.txt If my PWD is C:/users/admin/ , then the relative path to stuff.txt would be: docs/stuff.txt"
   ]
  },
  {
   "cell_type": "markdown",
   "metadata": {},
   "source": [
    "Note-> PWD + relative path = absolute path"
   ]
  },
  {
   "cell_type": "markdown",
   "metadata": {},
   "source": [
    "# 2. What does an absolute path start with your operating system ?"
   ]
  },
  {
   "cell_type": "markdown",
   "metadata": {},
   "source": [
    "Ans: In Linux bassed systems the absolute path starts with /. Where as in Windows bassed systems absolute path starts with C:"
   ]
  },
  {
   "cell_type": "markdown",
   "metadata": {},
   "source": [
    "# 3. What do the function os.getcwd() and os.chdir() do ?"
   ]
  },
  {
   "cell_type": "markdown",
   "metadata": {},
   "source": [
    "Ans: os.getcwd() method tells us the location of current working directory (CWD). Whereas os.chdir() method in Python used to\n",
    "    change the current working directory to specified path. These functions are similar to linux commands pwd and cd"
   ]
  },
  {
   "cell_type": "code",
   "execution_count": 1,
   "metadata": {},
   "outputs": [
    {
     "name": "stdout",
     "output_type": "stream",
     "text": [
      "C:\\Users\\Balodi\\Downloads\\pythonLearning\n",
      "C:\\Users\\Balodi\\Downloads\\pythonLearning\n"
     ]
    }
   ],
   "source": [
    "import os\n",
    "print(os.getcwd()) # Prints the current Working Directory\n",
    "path = r'C:\\Users\\Balodi\\Downloads\\pythonLearning'\n",
    "os.chdir(path)\n",
    "print(os.getcwd())"
   ]
  },
  {
   "cell_type": "markdown",
   "metadata": {},
   "source": [
    "# 4. In C:\\bacon\\eggs\\spam.txt,which part is the dir name,and which part is the base name ?"
   ]
  },
  {
   "cell_type": "markdown",
   "metadata": {},
   "source": [
    "Ans: For C:\\bacon\\eggs\\spam.txt The dir name is C:\\bacon\\eggs\\spam.txt The base name is spam.txt"
   ]
  },
  {
   "cell_type": "code",
   "execution_count": 1,
   "metadata": {},
   "outputs": [
    {
     "name": "stdout",
     "output_type": "stream",
     "text": [
      "C:\\bacon\\eggs\n",
      "spam.txt\n"
     ]
    }
   ],
   "source": [
    "import os\n",
    "path = r'C:\\bacon\\eggs\\spam.txt'\n",
    "print(os.path.dirname(path))\n",
    "print(os.path.basename(path))"
   ]
  },
  {
   "cell_type": "markdown",
   "metadata": {},
   "source": [
    "# 5. What are the  .  and  ..  folders ?"
   ]
  },
  {
   "cell_type": "markdown",
   "metadata": {},
   "source": [
    "Ans:  . Represents the Current Directory Whereas  ..  Represents the Parent Directory of the Current Directory."
   ]
  },
  {
   "cell_type": "markdown",
   "metadata": {},
   "source": [
    "For example-> if the below path is my absolute path.\n",
    "C:\\Users\\Balodi\\Downloads\\pythonLearning\n",
    "Then . represent the path C:\\Users\\Balodi\\Downloads\\pythonLearning\n",
    "Where as .. represent the path C:\\Users\\Balodi\\Downloads\\pythonLearning "
   ]
  },
  {
   "cell_type": "markdown",
   "metadata": {},
   "source": [
    "# 6. What are the three mode argument that can be passed to the open() function ? "
   ]
  },
  {
   "cell_type": "markdown",
   "metadata": {},
   "source": [
    "Ans: A file can be Accessed in python using open() function. Open function takes two arguments filename and mode of the operation(optional). if mode is not provided the default mode of the opening is mode \n",
    "so, the syntax is : open(filename , mode)"
   ]
  },
  {
   "cell_type": "markdown",
   "metadata": {},
   "source": [
    "1.'r'-> Read Mode: This is the default mode for open().The file is opened and a pointer is positioned at the beginning of the                       file's content.    "
   ]
  },
  {
   "cell_type": "markdown",
   "metadata": {},
   "source": [
    "2.'w'-> Write Mode: Using this mode will overwrite any existing content in a file.If the given file does not exist,a new one                        will be created. "
   ]
  },
  {
   "cell_type": "markdown",
   "metadata": {},
   "source": [
    "3.'r+'-> Read/Write Mode: Use this mode if you need to simultaneously read and write to a file."
   ]
  },
  {
   "cell_type": "markdown",
   "metadata": {},
   "source": [
    "4.'a'-> Append Mode: With this mode the user can append the data without overwriting any already existing data in the file.  "
   ]
  },
  {
   "cell_type": "markdown",
   "metadata": {},
   "source": [
    "5.'a+'-> Append and Read Mode: In this mode you can read and append the data without overwriting the original file."
   ]
  },
  {
   "cell_type": "markdown",
   "metadata": {},
   "source": [
    "6.'x'-> Exclusive Creating Mode: This mode is for the sole purpose of creating new files.Use this mode if you know the file to \n",
    "                                  written doesn't exist beforehand. "
   ]
  },
  {
   "cell_type": "markdown",
   "metadata": {},
   "source": [
    "# 7. What happend if an existing file is opened in write mode ?"
   ]
  },
  {
   "cell_type": "markdown",
   "metadata": {},
   "source": [
    "Ans: Using this mode will overwrite any existing content in a file. If the given file does not exist, a new one will be created."
   ]
  },
  {
   "cell_type": "markdown",
   "metadata": {},
   "source": [
    "# 8. How do you tell the difference between read()  and  readlines() ?"
   ]
  },
  {
   "cell_type": "markdown",
   "metadata": {},
   "source": [
    "Ans: The main difference is that read() will read the whole file at once and then print out of the first characters that take up as many bytes as you specify in the parenthesis."
   ]
  },
  {
   "cell_type": "raw",
   "metadata": {},
   "source": [
    ".-> Whereas the readline() that will read and print out the only the first characters that take up as many bytes as you specify in the  parenthesis. You may want to use readline() when you're reading files that are too big for your RAM.        "
   ]
  },
  {
   "cell_type": "markdown",
   "metadata": {},
   "source": [
    ".-> The read() would treat each character in the file separately,meaning that the iteration would happen for every character."
   ]
  },
  {
   "cell_type": "markdown",
   "metadata": {},
   "source": [
    ".-> The readline() function, on the other hand, only reads a single line of the file,This means that if the first line of the file were the three lines long, the readline() function would only parse (or iterate/operate) on the first line of the file.   "
   ]
  },
  {
   "cell_type": "markdown",
   "metadata": {},
   "source": [
    "# 9.What data  structure does a shelf value resemble ? "
   ]
  },
  {
   "cell_type": "markdown",
   "metadata": {},
   "source": [
    "Ans: It contains key and values it represent dictionary."
   ]
  }
 ],
 "metadata": {
  "kernelspec": {
   "display_name": "Python 3",
   "language": "python",
   "name": "python3"
  },
  "language_info": {
   "codemirror_mode": {
    "name": "ipython",
    "version": 3
   },
   "file_extension": ".py",
   "mimetype": "text/x-python",
   "name": "python",
   "nbconvert_exporter": "python",
   "pygments_lexer": "ipython3",
   "version": "3.8.5"
  }
 },
 "nbformat": 4,
 "nbformat_minor": 4
}
