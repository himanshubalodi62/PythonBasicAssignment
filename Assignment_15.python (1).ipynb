{
 "cells": [
  {
   "cell_type": "markdown",
   "id": "f15fa6c8",
   "metadata": {},
   "source": [
    "# Assignment 15 Solutions\n",
    "\n",
    "\n",
    "\n",
    "### 1.How many seconds are in an hour? Use the interactive interpreter as a calculator and multiply the number of seconds in a minute (60) by the number of minutes in an hour (also 60)."
   ]
  },
  {
   "cell_type": "code",
   "execution_count": 1,
   "id": "b168bcf8",
   "metadata": {},
   "outputs": [
    {
     "data": {
      "text/plain": [
       "3600"
      ]
     },
     "execution_count": 1,
     "metadata": {},
     "output_type": "execute_result"
    }
   ],
   "source": [
    ">>> 60 * 60"
   ]
  },
  {
   "cell_type": "markdown",
   "id": "aac457a7",
   "metadata": {},
   "source": [
    "\n",
    "### 2. Assign the result from the previous task (seconds in an hour) to a variable called seconds_per_hour."
   ]
  },
  {
   "cell_type": "code",
   "execution_count": 4,
   "id": "219341c1",
   "metadata": {},
   "outputs": [
    {
     "name": "stdout",
     "output_type": "stream",
     "text": [
      "3600\n"
     ]
    }
   ],
   "source": [
    "seconds_per_hour = 60 * 60\n",
    "print(seconds_per_hour)"
   ]
  },
  {
   "cell_type": "markdown",
   "id": "2ff38b5a",
   "metadata": {},
   "source": [
    "### 3. How many seconds do you think there are in a day? Make use of the variables seconds per hour and minutes per hour."
   ]
  },
  {
   "cell_type": "code",
   "execution_count": 5,
   "id": "c7449abb",
   "metadata": {},
   "outputs": [
    {
     "name": "stdout",
     "output_type": "stream",
     "text": [
      "86400\n"
     ]
    }
   ],
   "source": [
    "minutes_per_hour = 60\n",
    "print(seconds_per_hour*24)"
   ]
  },
  {
   "cell_type": "markdown",
   "id": "09179739",
   "metadata": {},
   "source": [
    "### 4. Calculate seconds per day again, but this time save the result in a variable called seconds_per_day"
   ]
  },
  {
   "cell_type": "code",
   "execution_count": 6,
   "id": "5b6b276d",
   "metadata": {},
   "outputs": [
    {
     "name": "stdout",
     "output_type": "stream",
     "text": [
      "86400\n"
     ]
    }
   ],
   "source": [
    "seconds_per_day = 24*60*60\n",
    "print(seconds_per_day)"
   ]
  },
  {
   "cell_type": "markdown",
   "id": "670eeeb8",
   "metadata": {},
   "source": [
    "### 5. Divide seconds_per_day by seconds_per_hour. Use floating-point (/) division."
   ]
  },
  {
   "cell_type": "code",
   "execution_count": 7,
   "id": "034fcbce",
   "metadata": {},
   "outputs": [
    {
     "name": "stdout",
     "output_type": "stream",
     "text": [
      "24.0\n"
     ]
    }
   ],
   "source": [
    "print(seconds_per_day/seconds_per_hour)"
   ]
  },
  {
   "cell_type": "markdown",
   "id": "598a5a92",
   "metadata": {},
   "source": [
    "### 6. Divide seconds_per_day by seconds_per_hour, using integer (//) division. Did this number agree with the floating-point value from the previous question, aside from the final .0?"
   ]
  },
  {
   "cell_type": "code",
   "execution_count": 8,
   "id": "3d72dfed",
   "metadata": {},
   "outputs": [
    {
     "name": "stdout",
     "output_type": "stream",
     "text": [
      "24\n"
     ]
    }
   ],
   "source": [
    "seconds_per_day = 24 * 60 * 60\n",
    "seconds_per_hour = 60 * 60\n",
    "\n",
    "hours_per_day = seconds_per_day // seconds_per_hour\n",
    "print(hours_per_day)"
   ]
  },
  {
   "cell_type": "markdown",
   "id": "206a0955",
   "metadata": {},
   "source": [
    "### 7. Write a generator, genPrimes, that returns the sequence of prime numbers on successive calls to its next() method: 2, 3, 5, 7, 11, ..."
   ]
  },
  {
   "cell_type": "code",
   "execution_count": 9,
   "id": "688b34e8",
   "metadata": {},
   "outputs": [],
   "source": [
    "def genPrimes():\n",
    "    # initialize candidate primes list with first prime\n",
    "    primes = [2]\n",
    "    # start yielding primes\n",
    "    yield primes[0]\n",
    "    # initialize candidate number to first odd number after 2\n",
    "    candidate = 3\n",
    "    while True:\n",
    "        # check if candidate is prime\n",
    "        is_prime = True\n",
    "        for prime in primes:\n",
    "            if candidate % prime == 0:\n",
    "                is_prime = False\n",
    "                break\n",
    "        # if candidate is prime, yield it and add it to primes list\n",
    "        if is_prime:\n",
    "            primes.append(candidate)\n",
    "            yield candidate\n",
    "        # move on to next candidate number (next odd number)\n",
    "        candidate += 2"
   ]
  },
  {
   "cell_type": "code",
   "execution_count": 10,
   "id": "303e8b82",
   "metadata": {},
   "outputs": [
    {
     "name": "stdout",
     "output_type": "stream",
     "text": [
      "2\n",
      "3\n",
      "5\n",
      "7\n",
      "11\n",
      "13\n",
      "17\n",
      "19\n",
      "23\n",
      "29\n"
     ]
    }
   ],
   "source": [
    "primes = genPrimes()\n",
    "for i in range(10):\n",
    "    print(next(primes))"
   ]
  },
  {
   "cell_type": "code",
   "execution_count": null,
   "id": "429bd195",
   "metadata": {},
   "outputs": [],
   "source": []
  }
 ],
 "metadata": {
  "kernelspec": {
   "display_name": "Python 3 (ipykernel)",
   "language": "python",
   "name": "python3"
  },
  "language_info": {
   "codemirror_mode": {
    "name": "ipython",
    "version": 3
   },
   "file_extension": ".py",
   "mimetype": "text/x-python",
   "name": "python",
   "nbconvert_exporter": "python",
   "pygments_lexer": "ipython3",
   "version": "3.9.12"
  }
 },
 "nbformat": 4,
 "nbformat_minor": 5
}
