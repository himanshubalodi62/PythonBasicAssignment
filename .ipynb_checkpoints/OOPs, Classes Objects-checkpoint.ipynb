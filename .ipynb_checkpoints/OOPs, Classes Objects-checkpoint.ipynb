{
 "cells": [
  {
   "cell_type": "code",
   "execution_count": 1,
   "metadata": {},
   "outputs": [],
   "source": [
    "class car:\n",
    "    pass"
   ]
  },
  {
   "cell_type": "code",
   "execution_count": 10,
   "metadata": {},
   "outputs": [],
   "source": [
    "audiq7 = car()"
   ]
  },
  {
   "cell_type": "code",
   "execution_count": 14,
   "metadata": {},
   "outputs": [],
   "source": [
    "audiq7.milage =10\n",
    "audiq7.year=2020\n",
    "audiq7.make =345\n",
    "audiq7.model =\"fsdf\""
   ]
  },
  {
   "cell_type": "code",
   "execution_count": 16,
   "metadata": {},
   "outputs": [
    {
     "data": {
      "text/plain": [
       "10"
      ]
     },
     "execution_count": 16,
     "metadata": {},
     "output_type": "execute_result"
    }
   ],
   "source": [
    "audiq7.milage"
   ]
  },
  {
   "cell_type": "code",
   "execution_count": 17,
   "metadata": {},
   "outputs": [
    {
     "data": {
      "text/plain": [
       "2020"
      ]
     },
     "execution_count": 17,
     "metadata": {},
     "output_type": "execute_result"
    }
   ],
   "source": [
    "audiq7.year"
   ]
  },
  {
   "cell_type": "code",
   "execution_count": 18,
   "metadata": {},
   "outputs": [],
   "source": [
    "nano = car()"
   ]
  },
  {
   "cell_type": "code",
   "execution_count": 19,
   "metadata": {},
   "outputs": [],
   "source": [
    "nano.milage = 20\n",
    "nano.year = 2020\n",
    "nano.make = 345\n",
    "nano.model = \"dfds\"\n",
    "nano.enginno =342342433"
   ]
  },
  {
   "cell_type": "code",
   "execution_count": 20,
   "metadata": {},
   "outputs": [
    {
     "name": "stdout",
     "output_type": "stream",
     "text": [
      "20 10\n"
     ]
    }
   ],
   "source": [
    "print(nano.milage , audiq7.milage)"
   ]
  },
  {
   "cell_type": "code",
   "execution_count": 21,
   "metadata": {},
   "outputs": [],
   "source": [
    "class car :\n",
    "    def __init__(self , milage , year , make , model):\n",
    "        self.milage = milage\n",
    "        self.year = year\n",
    "        self.make = make"
   ]
  },
  {
   "cell_type": "code",
   "execution_count": 26,
   "metadata": {},
   "outputs": [],
   "source": [
    "nano1 = car(20, 2020 , 23434 , \"sdfsd3453\")\n",
    "audiq71 =car(10 , 2020 ,334343 , \"sdfff\")\n",
    "nano2 = car(20, 2020 , 23434 , \"sdfsd3453\")\n",
    "audiq72 =car(10 , 2020 ,334343 , \"sdfff\")\n",
    "nano3 = car(20, 2020 , 23434 , \"sdfsd3453\")\n",
    "audiq73 =car(10 , 2020 ,334343 , \"sdfff\")\n",
    "nano4 = car(20, 2020 , 23434 , \"sdfsd3453\")\n",
    "audiq74 =car(10 , 2020 ,334343 , \"sdfff\")\n",
    "nano5 = car(20, 2020 , 23434 , \"sdfsd3453\")\n",
    "audiq75 =car(10 , 2020 ,334343 , \"sdfff\")\n",
    "nano6 = car(20, 2020 , 23434 , \"sdfsd3453\")\n",
    "audiq76 =car(10 , 2020 ,334343 , \"sdfff\")"
   ]
  },
  {
   "cell_type": "code",
   "execution_count": 27,
   "metadata": {},
   "outputs": [
    {
     "data": {
      "text/plain": [
       "20"
      ]
     },
     "execution_count": 27,
     "metadata": {},
     "output_type": "execute_result"
    }
   ],
   "source": [
    "nano1.milage"
   ]
  },
  {
   "cell_type": "code",
   "execution_count": 58,
   "metadata": {},
   "outputs": [],
   "source": [
    "class car :\n",
    "    def __init__(a , m , y , ma , mo):\n",
    "        a.milage = m\n",
    "        a.year = y\n",
    "        a.make = m\n",
    "        a.make = mo\n",
    "    def age(b,current_year):\n",
    "        return current_year - b.year\n",
    "     \n",
    "    \n",
    "    def milage1(self):\n",
    "        print(\"print a milage of a car \" , self.milage)\n",
    "        \n",
    "        \n",
    "    def __str__(c):\n",
    "        return \"this is my car class i have created\""
   ]
  },
  {
   "cell_type": "code",
   "execution_count": 59,
   "metadata": {},
   "outputs": [],
   "source": [
    "nano6 = car(20, 2020 , 23434 , \"sdfsd3453\")"
   ]
  },
  {
   "cell_type": "code",
   "execution_count": 60,
   "metadata": {},
   "outputs": [
    {
     "name": "stdout",
     "output_type": "stream",
     "text": [
      "print a milage of a car  20\n"
     ]
    }
   ],
   "source": [
    "nano6.milage1()"
   ]
  },
  {
   "cell_type": "code",
   "execution_count": 61,
   "metadata": {},
   "outputs": [
    {
     "data": {
      "text/plain": [
       "2"
      ]
     },
     "execution_count": 61,
     "metadata": {},
     "output_type": "execute_result"
    }
   ],
   "source": [
    "nano6.age(2022)"
   ]
  },
  {
   "cell_type": "code",
   "execution_count": 62,
   "metadata": {},
   "outputs": [
    {
     "data": {
      "text/plain": [
       "<__main__.car at 0x24ca5761c10>"
      ]
     },
     "execution_count": 62,
     "metadata": {},
     "output_type": "execute_result"
    }
   ],
   "source": [
    "nano6"
   ]
  },
  {
   "cell_type": "code",
   "execution_count": 63,
   "metadata": {},
   "outputs": [
    {
     "name": "stdout",
     "output_type": "stream",
     "text": [
      "this is my car class i have created\n"
     ]
    }
   ],
   "source": [
    "print(nano6)"
   ]
  },
  {
   "cell_type": "code",
   "execution_count": 3,
   "metadata": {},
   "outputs": [],
   "source": [
    "class student:\n",
    "    \n",
    "    def __inti__(self , name , rollno , joining_date , current_topic):\n",
    "        self.name = name\n",
    "        self.rollno = rollno\n",
    "        self.joining_date = joining\n",
    "        self.current_topic = current_topic\n",
    "        \n",
    "    def crt_topic(self):\n",
    "        print(\"Current topic discussed in my class is \" , self.current_topic)\n",
    "        \n",
    "    def str_rollno(self):\n",
    "        \n",
    "        if type(self.rollno) == str:\n",
    "            print(\"do nothing \")\n",
    "            \n",
    "        else :\n",
    "                return str(self.rollno)\n",
    "            \n",
    "    def duretion(self,current_date) :\n",
    "        print(\"duration of student in my class is \" , Current_date- self.joining_date)\n",
    "        \n",
    "    def __str__(self):\n",
    "        \n",
    "        \n",
    "        \n",
    "        return \"this is a student class where they can try to input there own data and they can try to fetch it \""
   ]
  },
  {
   "cell_type": "code",
   "execution_count": 9,
   "metadata": {},
   "outputs": [],
   "source": [
    "srini = student()"
   ]
  },
  {
   "cell_type": "code",
   "execution_count": null,
   "metadata": {},
   "outputs": [],
   "source": []
  },
  {
   "cell_type": "code",
   "execution_count": null,
   "metadata": {},
   "outputs": [],
   "source": []
  }
 ],
 "metadata": {
  "kernelspec": {
   "display_name": "Python 3",
   "language": "python",
   "name": "python3"
  },
  "language_info": {
   "codemirror_mode": {
    "name": "ipython",
    "version": 3
   },
   "file_extension": ".py",
   "mimetype": "text/x-python",
   "name": "python",
   "nbconvert_exporter": "python",
   "pygments_lexer": "ipython3",
   "version": "3.8.5"
  }
 },
 "nbformat": 4,
 "nbformat_minor": 4
}
