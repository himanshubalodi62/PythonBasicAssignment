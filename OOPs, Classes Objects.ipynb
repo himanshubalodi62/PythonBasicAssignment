{
 "cells": [
  {
   "cell_type": "code",
   "execution_count": 1,
   "metadata": {},
   "outputs": [],
   "source": [
    "class car:\n",
    "    pass"
   ]
  },
  {
   "cell_type": "code",
   "execution_count": 10,
   "metadata": {},
   "outputs": [],
   "source": [
    "audiq7 = car()"
   ]
  },
  {
   "cell_type": "code",
   "execution_count": 14,
   "metadata": {},
   "outputs": [],
   "source": [
    "audiq7.milage =10\n",
    "audiq7.year=2020\n",
    "audiq7.make =345\n",
    "audiq7.model =\"fsdf\""
   ]
  },
  {
   "cell_type": "code",
   "execution_count": 16,
   "metadata": {},
   "outputs": [
    {
     "data": {
      "text/plain": [
       "10"
      ]
     },
     "execution_count": 16,
     "metadata": {},
     "output_type": "execute_result"
    }
   ],
   "source": [
    "audiq7.milage"
   ]
  },
  {
   "cell_type": "code",
   "execution_count": 17,
   "metadata": {},
   "outputs": [
    {
     "data": {
      "text/plain": [
       "2020"
      ]
     },
     "execution_count": 17,
     "metadata": {},
     "output_type": "execute_result"
    }
   ],
   "source": [
    "audiq7.year"
   ]
  },
  {
   "cell_type": "code",
   "execution_count": 18,
   "metadata": {},
   "outputs": [],
   "source": [
    "nano = car()"
   ]
  },
  {
   "cell_type": "code",
   "execution_count": 19,
   "metadata": {},
   "outputs": [],
   "source": [
    "nano.milage = 20\n",
    "nano.year = 2020\n",
    "nano.make = 345\n",
    "nano.model = \"dfds\"\n",
    "nano.enginno =342342433"
   ]
  },
  {
   "cell_type": "code",
   "execution_count": 20,
   "metadata": {},
   "outputs": [
    {
     "name": "stdout",
     "output_type": "stream",
     "text": [
      "20 10\n"
     ]
    }
   ],
   "source": [
    "print(nano.milage , audiq7.milage)"
   ]
  },
  {
   "cell_type": "code",
   "execution_count": 21,
   "metadata": {},
   "outputs": [],
   "source": [
    "class car :\n",
    "    def __init__(self , milage , year , make , model):\n",
    "        self.milage = milage\n",
    "        self.year = year\n",
    "        self.make = make"
   ]
  },
  {
   "cell_type": "code",
   "execution_count": 26,
   "metadata": {},
   "outputs": [],
   "source": [
    "nano1 = car(20, 2020 , 23434 , \"sdfsd3453\")\n",
    "audiq71 =car(10 , 2020 ,334343 , \"sdfff\")\n",
    "nano2 = car(20, 2020 , 23434 , \"sdfsd3453\")\n",
    "audiq72 =car(10 , 2020 ,334343 , \"sdfff\")\n",
    "nano3 = car(20, 2020 , 23434 , \"sdfsd3453\")\n",
    "audiq73 =car(10 , 2020 ,334343 , \"sdfff\")\n",
    "nano4 = car(20, 2020 , 23434 , \"sdfsd3453\")\n",
    "audiq74 =car(10 , 2020 ,334343 , \"sdfff\")\n",
    "nano5 = car(20, 2020 , 23434 , \"sdfsd3453\")\n",
    "audiq75 =car(10 , 2020 ,334343 , \"sdfff\")\n",
    "nano6 = car(20, 2020 , 23434 , \"sdfsd3453\")\n",
    "audiq76 =car(10 , 2020 ,334343 , \"sdfff\")"
   ]
  },
  {
   "cell_type": "code",
   "execution_count": 27,
   "metadata": {},
   "outputs": [
    {
     "data": {
      "text/plain": [
       "20"
      ]
     },
     "execution_count": 27,
     "metadata": {},
     "output_type": "execute_result"
    }
   ],
   "source": [
    "nano1.milage"
   ]
  },
  {
   "cell_type": "code",
   "execution_count": 58,
   "metadata": {},
   "outputs": [],
   "source": [
    "class car :\n",
    "    def __init__(a , m , y , ma , mo):\n",
    "        a.milage = m\n",
    "        a.year = y\n",
    "        a.make = m\n",
    "        a.make = mo\n",
    "    def age(b,current_year):\n",
    "        return current_year - b.year\n",
    "     \n",
    "    \n",
    "    def milage1(self):\n",
    "        print(\"print a milage of a car \" , self.milage)\n",
    "        \n",
    "        \n",
    "    def __str__(c):\n",
    "        return \"this is my car class i have created\""
   ]
  },
  {
   "cell_type": "code",
   "execution_count": 59,
   "metadata": {},
   "outputs": [],
   "source": [
    "nano6 = car(20, 2020 , 23434 , \"sdfsd3453\")"
   ]
  },
  {
   "cell_type": "code",
   "execution_count": 60,
   "metadata": {},
   "outputs": [
    {
     "name": "stdout",
     "output_type": "stream",
     "text": [
      "print a milage of a car  20\n"
     ]
    }
   ],
   "source": [
    "nano6.milage1()"
   ]
  },
  {
   "cell_type": "code",
   "execution_count": 61,
   "metadata": {},
   "outputs": [
    {
     "data": {
      "text/plain": [
       "2"
      ]
     },
     "execution_count": 61,
     "metadata": {},
     "output_type": "execute_result"
    }
   ],
   "source": [
    "nano6.age(2022)"
   ]
  },
  {
   "cell_type": "code",
   "execution_count": 62,
   "metadata": {},
   "outputs": [
    {
     "data": {
      "text/plain": [
       "<__main__.car at 0x24ca5761c10>"
      ]
     },
     "execution_count": 62,
     "metadata": {},
     "output_type": "execute_result"
    }
   ],
   "source": [
    "nano6"
   ]
  },
  {
   "cell_type": "code",
   "execution_count": 63,
   "metadata": {},
   "outputs": [
    {
     "name": "stdout",
     "output_type": "stream",
     "text": [
      "this is my car class i have created\n"
     ]
    }
   ],
   "source": [
    "print(nano6)"
   ]
  },
  {
   "cell_type": "code",
   "execution_count": 108,
   "metadata": {},
   "outputs": [
    {
     "ename": "SyntaxError",
     "evalue": "invalid syntax (<ipython-input-108-103ae8353452>, line 14)",
     "output_type": "error",
     "traceback": [
      "\u001b[1;36m  File \u001b[1;32m\"<ipython-input-108-103ae8353452>\"\u001b[1;36m, line \u001b[1;32m14\u001b[0m\n\u001b[1;33m    else :\u001b[0m\n\u001b[1;37m    ^\u001b[0m\n\u001b[1;31mSyntaxError\u001b[0m\u001b[1;31m:\u001b[0m invalid syntax\n"
     ]
    }
   ],
   "source": [
    "class student:\n",
    "    \n",
    "    def __init__(self , name , rollno , joining_date , current_topic):\n",
    "        self.name = name\n",
    "        self.rollno = rollno\n",
    "        self.joining_date = joining_date\n",
    "        self.current_topic = current_topic\n",
    "        \n",
    "        \n",
    "    def name_parsing(self) :\n",
    "        if type(self.name) == list:\n",
    "            for i in self.name :\n",
    "                print(\"name of the stuent \" , i )\n",
    "    else :\n",
    "        print(\"provided name is not in a front of list \")\n",
    "        \n",
    "    \n",
    "    def crt_topic(self):\n",
    "        print(\"Current topic discussed in my class is \" , self.current_topic)\n",
    "        \n",
    "    def str_rollno(self):\n",
    "        \n",
    "        if type(self.rollno) == str:\n",
    "            print(\"do nothing \")\n",
    "            \n",
    "        else :\n",
    "                return str(self.rollno)\n",
    "        except Exception as e :\n",
    "            \n",
    "            print(\"this is my erro msg \" , e )\n",
    "            \n",
    "    def duration(self,current_date) :\n",
    "        \n",
    "        print(\"duration of student in my class is \" , current_date- self.joining_date)\n",
    "        \n",
    "    def __str__(self):\n",
    "        \n",
    "        \n",
    "         return \"this is a student class where they can try to input there own data and they can try to fetch it \""
   ]
  },
  {
   "cell_type": "code",
   "execution_count": 109,
   "metadata": {},
   "outputs": [],
   "source": [
    "sring = student(\"sring\", \"####\", 2022, \"oops\")"
   ]
  },
  {
   "cell_type": "code",
   "execution_count": 110,
   "metadata": {},
   "outputs": [
    {
     "name": "stdout",
     "output_type": "stream",
     "text": [
      "duration of student in my class is  0\n"
     ]
    }
   ],
   "source": [
    "sring.duration(2022)"
   ]
  },
  {
   "cell_type": "code",
   "execution_count": 111,
   "metadata": {},
   "outputs": [
    {
     "name": "stdout",
     "output_type": "stream",
     "text": [
      "do nothing \n"
     ]
    }
   ],
   "source": [
    "sring.str_rollno()"
   ]
  },
  {
   "cell_type": "code",
   "execution_count": 112,
   "metadata": {},
   "outputs": [
    {
     "name": "stdout",
     "output_type": "stream",
     "text": [
      "this is a student class where they can try to input there own data and they can try to fetch it \n"
     ]
    }
   ],
   "source": [
    "print(sring)"
   ]
  },
  {
   "cell_type": "code",
   "execution_count": 113,
   "metadata": {},
   "outputs": [],
   "source": [
    "marur = student(\"marur\",\"dssf\" ,53544,556)"
   ]
  },
  {
   "cell_type": "code",
   "execution_count": 114,
   "metadata": {},
   "outputs": [],
   "source": [
    "pawan = student([\"naveeen\" , \"jay\" , \"himanshu\" , \"prakash \"] ,[2323,323,43,4343,433] ,2022, \"oops\")"
   ]
  },
  {
   "cell_type": "code",
   "execution_count": 115,
   "metadata": {},
   "outputs": [
    {
     "ename": "AttributeError",
     "evalue": "'student' object has no attribute 'name_parsing'",
     "output_type": "error",
     "traceback": [
      "\u001b[1;31m---------------------------------------------------------------------------\u001b[0m",
      "\u001b[1;31mAttributeError\u001b[0m                            Traceback (most recent call last)",
      "\u001b[1;32m<ipython-input-115-e46f6564e5b6>\u001b[0m in \u001b[0;36m<module>\u001b[1;34m\u001b[0m\n\u001b[1;32m----> 1\u001b[1;33m \u001b[0mpawan\u001b[0m\u001b[1;33m.\u001b[0m\u001b[0mname_parsing\u001b[0m\u001b[1;33m(\u001b[0m\u001b[1;33m)\u001b[0m\u001b[1;33m\u001b[0m\u001b[1;33m\u001b[0m\u001b[0m\n\u001b[0m",
      "\u001b[1;31mAttributeError\u001b[0m: 'student' object has no attribute 'name_parsing'"
     ]
    }
   ],
   "source": [
    "pawan.name_parsing()"
   ]
  },
  {
   "cell_type": "code",
   "execution_count": 116,
   "metadata": {},
   "outputs": [],
   "source": [
    "class student:\n",
    "    \n",
    "    def __init__(self , name , rollno , joining_date , current_topic):\n",
    "        self.name = name\n",
    "        self.rollno = rollno \n",
    "        self.joining_date = joining_date\n",
    "        self.current_date = current_topic\n",
    "        \n",
    "    def name_prasing(self) :\n",
    "        if type(self.name) == list:\n",
    "            for i in self.name :\n",
    "                print(\"name the student \",i)\n",
    "        else :\n",
    "            print(\"provided name is not a front of list \")\n",
    "            \n",
    "            \n",
    "    def crt_topic(self):\n",
    "        print(\"current topic discussed in my class is \" , self.current_topic)\n",
    "        \n",
    "    def str_rollno(self):\n",
    "        \n",
    "        try :\n",
    "            \n",
    "            if type(self.rollno) == str:\n",
    "                print(\"do somthing \")\n",
    "                \n",
    "            else :\n",
    "                return str(self.rollno)\n",
    "        except Exception as e :\n",
    "            \n",
    "            print(\"this is my erro msg \" , e)\n",
    "            \n",
    "            \n",
    "    def duration(self,current_date) :\n",
    "        \n",
    "        print(\"duration of student in my class is \" , current_date-self.joining_date)\n",
    "        \n",
    "    def __str__(self):\n",
    "        \n",
    "        \n",
    "        return \"this is student class where they can tyr to input there own try to fetch it \"\n",
    "    \n",
    "    "
   ]
  },
  {
   "cell_type": "code",
   "execution_count": 117,
   "metadata": {},
   "outputs": [],
   "source": [
    "pawan = student([\"naveen\" , \"raju\" , \"jay\" , \"himanshu\" , \"prakash \"] , [4455,4445,454,545,45] ,2022 ,\"oops\")"
   ]
  },
  {
   "cell_type": "code",
   "execution_count": 118,
   "metadata": {},
   "outputs": [
    {
     "name": "stdout",
     "output_type": "stream",
     "text": [
      "name the student  naveen\n",
      "name the student  raju\n",
      "name the student  jay\n",
      "name the student  himanshu\n",
      "name the student  prakash \n"
     ]
    }
   ],
   "source": [
    "pawan.name_prasing()"
   ]
  },
  {
   "cell_type": "code",
   "execution_count": 119,
   "metadata": {},
   "outputs": [
    {
     "data": {
      "text/plain": [
       "['naveen', 'raju', 'jay', 'himanshu', 'prakash ']"
      ]
     },
     "execution_count": 119,
     "metadata": {},
     "output_type": "execute_result"
    }
   ],
   "source": [
    "pawan.name"
   ]
  },
  {
   "cell_type": "code",
   "execution_count": 127,
   "metadata": {},
   "outputs": [
    {
     "ename": "NameError",
     "evalue": "name 'read' is not defined",
     "output_type": "error",
     "traceback": [
      "\u001b[1;31m---------------------------------------------------------------------------\u001b[0m",
      "\u001b[1;31mNameError\u001b[0m                                 Traceback (most recent call last)",
      "\u001b[1;32m<ipython-input-127-25391c0bc8fb>\u001b[0m in \u001b[0;36m<module>\u001b[1;34m\u001b[0m\n\u001b[0;32m     24\u001b[0m \u001b[0mfile1\u001b[0m \u001b[1;33m=\u001b[0m \u001b[0mdata\u001b[0m\u001b[1;33m(\u001b[0m\u001b[1;34m'file1'\u001b[0m \u001b[1;33m,\u001b[0m \u001b[1;34m'txt'\u001b[0m \u001b[1;33m,\u001b[0m \u001b[1;34m'2022-5-6'\u001b[0m \u001b[1;33m,\u001b[0m \u001b[1;34m'2MB'\u001b[0m\u001b[1;33m)\u001b[0m\u001b[1;33m\u001b[0m\u001b[1;33m\u001b[0m\u001b[0m\n\u001b[0;32m     25\u001b[0m \u001b[0mfile1\u001b[0m\u001b[1;33m.\u001b[0m\u001b[0mfileopen\u001b[0m\u001b[1;33m(\u001b[0m\u001b[1;33m)\u001b[0m\u001b[1;33m\u001b[0m\u001b[1;33m\u001b[0m\u001b[0m\n\u001b[1;32m---> 26\u001b[1;33m \u001b[0mfile1\u001b[0m\u001b[1;33m.\u001b[0m\u001b[0mfileread\u001b[0m\u001b[1;33m(\u001b[0m\u001b[1;33m)\u001b[0m\u001b[1;33m\u001b[0m\u001b[1;33m\u001b[0m\u001b[0m\n\u001b[0m\u001b[0;32m     27\u001b[0m \u001b[0mfile1\u001b[0m\u001b[1;33m.\u001b[0m\u001b[0mfileappend\u001b[0m\u001b[1;33m(\u001b[0m\u001b[1;33m)\u001b[0m\u001b[1;33m\u001b[0m\u001b[1;33m\u001b[0m\u001b[0m\n",
      "\u001b[1;32m<ipython-input-127-25391c0bc8fb>\u001b[0m in \u001b[0;36mfileread\u001b[1;34m(self)\u001b[0m\n\u001b[0;32m     12\u001b[0m \u001b[1;33m\u001b[0m\u001b[0m\n\u001b[0;32m     13\u001b[0m     \u001b[1;32mdef\u001b[0m \u001b[0mfileread\u001b[0m\u001b[1;33m(\u001b[0m\u001b[0mself\u001b[0m\u001b[1;33m)\u001b[0m\u001b[1;33m:\u001b[0m\u001b[1;33m\u001b[0m\u001b[1;33m\u001b[0m\u001b[0m\n\u001b[1;32m---> 14\u001b[1;33m         \u001b[0mf\u001b[0m \u001b[1;33m=\u001b[0m \u001b[0mread\u001b[0m\u001b[1;33m(\u001b[0m\u001b[0mself\u001b[0m\u001b[1;33m.\u001b[0m\u001b[0mfileread\u001b[0m\u001b[1;33m,\u001b[0m\u001b[1;34m'r'\u001b[0m\u001b[1;33m)\u001b[0m\u001b[1;33m\u001b[0m\u001b[1;33m\u001b[0m\u001b[0m\n\u001b[0m\u001b[0;32m     15\u001b[0m         \u001b[0mprint\u001b[0m\u001b[1;33m(\u001b[0m\u001b[0mf\u001b[0m\u001b[1;33m.\u001b[0m\u001b[0mread\u001b[0m\u001b[1;33m(\u001b[0m\u001b[1;33m)\u001b[0m\u001b[1;33m)\u001b[0m\u001b[1;33m\u001b[0m\u001b[1;33m\u001b[0m\u001b[0m\n\u001b[0;32m     16\u001b[0m         \u001b[0mf\u001b[0m\u001b[1;33m.\u001b[0m\u001b[0mclose\u001b[0m\u001b[1;33m(\u001b[0m\u001b[1;33m)\u001b[0m\u001b[1;33m\u001b[0m\u001b[1;33m\u001b[0m\u001b[0m\n",
      "\u001b[1;31mNameError\u001b[0m: name 'read' is not defined"
     ]
    }
   ],
   "source": [
    "class data :\n",
    "    def __init__(self,filename,filetype,deta, size):\n",
    "        self.filename = filename\n",
    "        self.filetype = filetype\n",
    "        self.deta = data \n",
    "        self.size = size\n",
    "        \n",
    "    def fileopen(self):\n",
    "        f = open(self.filename, 'w')\n",
    "        f.write(\"This is test file \")\n",
    "        f.close()\n",
    "        \n",
    "    def fileread(self):\n",
    "        f = read(self.fileread,'r')\n",
    "        print(f.read())\n",
    "        f.close()\n",
    "\n",
    "        \n",
    "    def fileappend(self):\n",
    "        f = open(self.filename,'a')\n",
    "        f.write(\"Appending data to file \")\n",
    "        f.close()\n",
    "        \n",
    "file1 = data('file1' , 'txt' , '2022-5-6' , '2MB')\n",
    "file1.fileopen()\n",
    "file1.fileread()\n",
    "file1.fileappend()"
   ]
  },
  {
   "cell_type": "code",
   "execution_count": 129,
   "metadata": {},
   "outputs": [],
   "source": [
    "class data :\n",
    "    def __init__(self, file_name, file_type, date, size):\n",
    "        self.file_name = file_name\n",
    "        self.file_type = file_type\n",
    "        self.date = date\n",
    "        self.size = size\n",
    "        \n",
    "        \n",
    "    def file_open(self):\n",
    "        try:\n",
    "            with open(f\"{self.file_name}.txt\", \"w\") as wr:\n",
    "                wr.write(\"hi iam a student of ineuron\")\n",
    "        except Exception as e:\n",
    "                    print (e)\n",
    "                    \n",
    "                    \n",
    "    def file_read(self):\n",
    "        try:\n",
    "            with open(f\"{self.file_name}.txt\", \"w\") as wr:\n",
    "                for line in wr:\n",
    "                    print(line)\n",
    "        except Exception as e:\n",
    "            print(e)\n",
    "            \n",
    "    def file_append(self):\n",
    "        try:\n",
    "            with open(f\"({self.file_name}.txt\", \"w\") as wr:\n",
    "                wr.append (\"hi iam a student of ineuron 2\")\n",
    "        except Exception as e:\n",
    "            print(e)\n",
    "    \n",
    "    def __str__(self):\n",
    "        return \"this task was during oops class\"\n",
    "            \n",
    "    "
   ]
  },
  {
   "cell_type": "code",
   "execution_count": null,
   "metadata": {},
   "outputs": [],
   "source": [
    "import os \n",
    "import logging as lg\n",
    "lg.bassicConfig(filename='oops.log',level=lg.INFO)\n",
    "class data:\n",
    "    def __init__(self, filename, filetype, date, size):\n",
    "        self.filename = filename\n",
    "        self.filetype = filetype\n",
    "        self.date = date\n",
    "        self.size = size\n",
    "        \n",
    "    def file_open(self):\n",
    "        lst = os.listdir()\n",
    "        if self.filename is not os.listdir():\n",
    "            f = open(self.filename,'w')\n",
    "            f =write(\"This is file content\")\n",
    "            f.info =\n",
    "            \n",
    "            "
   ]
  }
 ],
 "metadata": {
  "kernelspec": {
   "display_name": "Python 3",
   "language": "python",
   "name": "python3"
  },
  "language_info": {
   "codemirror_mode": {
    "name": "ipython",
    "version": 3
   },
   "file_extension": ".py",
   "mimetype": "text/x-python",
   "name": "python",
   "nbconvert_exporter": "python",
   "pygments_lexer": "ipython3",
   "version": "3.8.5"
  }
 },
 "nbformat": 4,
 "nbformat_minor": 4
}
